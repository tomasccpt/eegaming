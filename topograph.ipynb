{
 "cells": [
  {
   "cell_type": "markdown",
   "metadata": {},
   "source": [
    "## Topography graphs for Class/frequency CSP\n"
   ]
  },
  {
   "cell_type": "code",
   "execution_count": null,
   "metadata": {},
   "outputs": [],
   "source": [
    "#!pip install mne\n",
    "import mne\n",
    "import numpy as np\n",
    "from mne.viz import plot_topomap\n",
    "\n"
   ]
  },
  {
   "cell_type": "code",
   "execution_count": null,
   "metadata": {},
   "outputs": [],
   "source": [
    "# Parâmetros de todos os mapas topográficos:\n",
    "''' TODO: Guardar índices da feature selection para saber quais as bandas mais discriminativas do participante com melhor acuracia''' \n",
    "\n",
    "band = 2 # Alpha\n",
    "trial = 5\n",
    "\n",
    "\n",
    "#higlight dos canais principais\n",
    "h_ch = ['C3..', 'Cz..', 'C4..']\n",
    "\n",
    "highligted_ch = np.zeros((len(ch)))\n",
    "\n",
    "for i, c in enumerate(ch):\n",
    "  for j in h_ch:\n",
    "    if c == j:\n",
    "      highligted_ch[i] = 1\n",
    "\n",
    "highligted_ch = [int(idx) for idx in highligted_ch]\n",
    "\n",
    "mk = dict(marker='o', markerfacecolor='w', markeredgecolor='r',\n",
    "        linewidth=0, markersize=5)"
   ]
  },
  {
   "cell_type": "markdown",
   "metadata": {},
   "source": [
    "## LEFT HAND"
   ]
  },
  {
   "cell_type": "code",
   "execution_count": null,
   "metadata": {},
   "outputs": [],
   "source": [
    "ch = [\"Fc1.\",\"Fc5.\",\"C1..\",\"C3..\",\"C5..\",\"Cp1.\",\"Cp5.\",\"Fcz.\",\"Cz..\",\"Fc2.\",\"Fc6.\",\"C2..\",\"C4..\",\"C6..\",\"Cp2.\",\"Cp6.\"]\n",
    "fs = 160\n",
    "\n",
    "info = mne.create_info(ch, fs, ch_types='eeg')\n",
    "\n",
    "n_trials, _, _ = np.shape(perBand_Z_test[bestBand][1]) #esta perBand_Z_test é um array que inclui a matrix W para cada banda de frequencias para cada classe\n",
    "\n",
    "alltrials_left_fist = []\n",
    "\n",
    "for trial in range(n_trials):\n",
    "\n",
    "  left_fist = mne.io.RawArray(perBand_Z_test[bestBand][1][trial], info)\n",
    "#   left_fist = change_montage(left_fist,ch)\n",
    "\n",
    "  alltrials_left_fist.append(left_fist)\n",
    "\n",
    "_, n_samples = np.shape(left_fist.get_data())\n",
    "\n",
    "samples = (np.linspace(0, n_samples, n_samples, endpoint=True))\n",
    "samples = [int(i) for i in samples]\n",
    "\n",
    "win = int(50/(1000/fs)) # 50 ms em amostras\n",
    "iter = int(100/(1000/fs))\n",
    "\n",
    "n_rows = 4\n",
    "n_cols = 6\n",
    "fig, axes = plt.subplots(nrows= n_rows, ncols=n_cols, figsize=(24, 16))\n",
    "\n",
    "count = 0\n",
    "\n",
    "for s in range(min(samples)+iter, max(samples)-iter, iter):\n",
    "    \n",
    "    ax = axes.flat[count]\n",
    "    count+=1\n",
    "\n",
    "    ax.set_title(f\"Time: {((s)/fs)*1000+500} ms\", fontsize=12)\n",
    "    tstart = ((s-win)/fs)\n",
    "    tstop = ((s+win)/fs)\n",
    "    \n",
    "    aver_psd = []\n",
    "\n",
    "    for trial in range(n_trials):\n",
    "      left_fist = alltrials_left_fist[trial]\n",
    "      aver_psd.append(np.mean(left_fist.compute_psd(method='welch', fmin=bands[bestBand][0], fmax=bands[bestBand][1], \n",
    "                                                    tmin=tstart, tmax=tstop, n_per_seg=win*2).get_data(),axis = 1))\n",
    "    \n",
    "    data2plot = np.mean(aver_psd, axis = 0)\n",
    "\n",
    "    plot_topomap(data2plot, left_fist.info, axes=ax, size = 6, sensors=True, \n",
    "                 mask = np.array(highligted_ch), mask_params = mk, \n",
    "                 names = None, contours=10 ,show = False, cmap = 'rainbow', \n",
    "                 sphere=(-0.001, 0.015, 0.025, 0.105));\n",
    "\n",
    "fig.suptitle(\"Left Fist PSD\", fontweight='bold', fontsize=16)\n",
    "plt.show()"
   ]
  }
 ],
 "metadata": {
  "kernelspec": {
   "display_name": "base",
   "language": "python",
   "name": "python3"
  },
  "language_info": {
   "name": "python",
   "version": "3.11.5"
  }
 },
 "nbformat": 4,
 "nbformat_minor": 2
}
