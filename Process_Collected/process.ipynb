{
 "cells": [
  {
   "cell_type": "code",
   "execution_count": 1,
   "metadata": {},
   "outputs": [],
   "source": [
    "import numpy as np\n",
    "import pandas as pd\n",
    "import matplotlib.pyplot as plt\n",
    "import scipy as scp\n",
    "from tqdm import tqdm\n"
   ]
  },
  {
   "cell_type": "code",
   "execution_count": 2,
   "metadata": {},
   "outputs": [
    {
     "data": {
      "text/html": [
       "<div>\n",
       "<style scoped>\n",
       "    .dataframe tbody tr th:only-of-type {\n",
       "        vertical-align: middle;\n",
       "    }\n",
       "\n",
       "    .dataframe tbody tr th {\n",
       "        vertical-align: top;\n",
       "    }\n",
       "\n",
       "    .dataframe thead th {\n",
       "        text-align: right;\n",
       "    }\n",
       "</style>\n",
       "<table border=\"1\" class=\"dataframe\">\n",
       "  <thead>\n",
       "    <tr style=\"text-align: right;\">\n",
       "      <th></th>\n",
       "      <th>F3</th>\n",
       "      <th>Fz</th>\n",
       "      <th>F4</th>\n",
       "      <th>FC3</th>\n",
       "      <th>FCz</th>\n",
       "      <th>FC4</th>\n",
       "      <th>C3</th>\n",
       "      <th>Cz</th>\n",
       "      <th>C4</th>\n",
       "      <th>CP3</th>\n",
       "      <th>CPz</th>\n",
       "      <th>CP4</th>\n",
       "      <th>P3</th>\n",
       "      <th>Pz</th>\n",
       "      <th>P4</th>\n",
       "      <th>Oz</th>\n",
       "      <th>Photoresistor</th>\n",
       "    </tr>\n",
       "  </thead>\n",
       "  <tbody>\n",
       "    <tr>\n",
       "      <th>0</th>\n",
       "      <td>-18856.266899</td>\n",
       "      <td>-18698.463583</td>\n",
       "      <td>-13608.658446</td>\n",
       "      <td>-11045.896834</td>\n",
       "      <td>-17954.552824</td>\n",
       "      <td>-18615.091576</td>\n",
       "      <td>-18381.202922</td>\n",
       "      <td>-18494.392156</td>\n",
       "      <td>-16687.924169</td>\n",
       "      <td>-16375.647947</td>\n",
       "      <td>-15073.278853</td>\n",
       "      <td>-10303.796566</td>\n",
       "      <td>-16564.408429</td>\n",
       "      <td>-8581.393490</td>\n",
       "      <td>-16312.772490</td>\n",
       "      <td>-8063.280054</td>\n",
       "      <td>116.5</td>\n",
       "    </tr>\n",
       "    <tr>\n",
       "      <th>1</th>\n",
       "      <td>-36212.552930</td>\n",
       "      <td>-35802.107847</td>\n",
       "      <td>-25643.374103</td>\n",
       "      <td>-20525.808099</td>\n",
       "      <td>-34324.456373</td>\n",
       "      <td>-35642.091708</td>\n",
       "      <td>-35190.765284</td>\n",
       "      <td>-35385.068999</td>\n",
       "      <td>-35802.867806</td>\n",
       "      <td>-35301.451123</td>\n",
       "      <td>-32613.877370</td>\n",
       "      <td>-21845.298629</td>\n",
       "      <td>-35402.123380</td>\n",
       "      <td>-18363.142712</td>\n",
       "      <td>-35332.497696</td>\n",
       "      <td>-19792.045032</td>\n",
       "      <td>117.0</td>\n",
       "    </tr>\n",
       "    <tr>\n",
       "      <th>2</th>\n",
       "      <td>-36659.856040</td>\n",
       "      <td>-36327.865580</td>\n",
       "      <td>-26154.022056</td>\n",
       "      <td>-20989.673852</td>\n",
       "      <td>-34807.857550</td>\n",
       "      <td>-36134.701804</td>\n",
       "      <td>-35648.216086</td>\n",
       "      <td>-35872.091159</td>\n",
       "      <td>-34427.632025</td>\n",
       "      <td>-33938.508801</td>\n",
       "      <td>-31252.410263</td>\n",
       "      <td>-20684.192560</td>\n",
       "      <td>-34035.135393</td>\n",
       "      <td>-17620.126023</td>\n",
       "      <td>-33943.180316</td>\n",
       "      <td>-18412.785937</td>\n",
       "      <td>114.5</td>\n",
       "    </tr>\n",
       "    <tr>\n",
       "      <th>3</th>\n",
       "      <td>-37182.015143</td>\n",
       "      <td>-36869.358941</td>\n",
       "      <td>-26695.023679</td>\n",
       "      <td>-21550.233251</td>\n",
       "      <td>-35390.902804</td>\n",
       "      <td>-36708.873416</td>\n",
       "      <td>-36238.972692</td>\n",
       "      <td>-36463.071282</td>\n",
       "      <td>-36127.884522</td>\n",
       "      <td>-35594.616603</td>\n",
       "      <td>-32858.584268</td>\n",
       "      <td>-21823.237458</td>\n",
       "      <td>-35647.701996</td>\n",
       "      <td>-18155.673820</td>\n",
       "      <td>-35635.185019</td>\n",
       "      <td>-20044.619744</td>\n",
       "      <td>116.5</td>\n",
       "    </tr>\n",
       "    <tr>\n",
       "      <th>4</th>\n",
       "      <td>-35810.601510</td>\n",
       "      <td>-35476.174709</td>\n",
       "      <td>-25330.628494</td>\n",
       "      <td>-20160.915871</td>\n",
       "      <td>-33987.973212</td>\n",
       "      <td>-35300.333536</td>\n",
       "      <td>-34835.841934</td>\n",
       "      <td>-35048.585838</td>\n",
       "      <td>-34755.621523</td>\n",
       "      <td>-34259.189279</td>\n",
       "      <td>-31617.481305</td>\n",
       "      <td>-21101.521981</td>\n",
       "      <td>-34375.731275</td>\n",
       "      <td>-17978.379783</td>\n",
       "      <td>-34278.188262</td>\n",
       "      <td>-18788.250540</td>\n",
       "      <td>115.0</td>\n",
       "    </tr>\n",
       "    <tr>\n",
       "      <th>...</th>\n",
       "      <td>...</td>\n",
       "      <td>...</td>\n",
       "      <td>...</td>\n",
       "      <td>...</td>\n",
       "      <td>...</td>\n",
       "      <td>...</td>\n",
       "      <td>...</td>\n",
       "      <td>...</td>\n",
       "      <td>...</td>\n",
       "      <td>...</td>\n",
       "      <td>...</td>\n",
       "      <td>...</td>\n",
       "      <td>...</td>\n",
       "      <td>...</td>\n",
       "      <td>...</td>\n",
       "      <td>...</td>\n",
       "      <td>...</td>\n",
       "    </tr>\n",
       "    <tr>\n",
       "      <th>755352</th>\n",
       "      <td>-4394.442367</td>\n",
       "      <td>-17609.799517</td>\n",
       "      <td>-2994.306742</td>\n",
       "      <td>-264.465840</td>\n",
       "      <td>-15671.478590</td>\n",
       "      <td>-22719.564762</td>\n",
       "      <td>-19031.728093</td>\n",
       "      <td>-18740.484862</td>\n",
       "      <td>-20195.002281</td>\n",
       "      <td>-21788.547550</td>\n",
       "      <td>-8458.481247</td>\n",
       "      <td>-1488.335608</td>\n",
       "      <td>-13781.549189</td>\n",
       "      <td>-1360.170705</td>\n",
       "      <td>-20738.082616</td>\n",
       "      <td>1832.775990</td>\n",
       "      <td>107.5</td>\n",
       "    </tr>\n",
       "    <tr>\n",
       "      <th>755353</th>\n",
       "      <td>-5551.949805</td>\n",
       "      <td>-19012.215020</td>\n",
       "      <td>-4375.041053</td>\n",
       "      <td>-1651.212770</td>\n",
       "      <td>-17055.520958</td>\n",
       "      <td>-24102.243674</td>\n",
       "      <td>-20414.116432</td>\n",
       "      <td>-20121.062710</td>\n",
       "      <td>-19467.363592</td>\n",
       "      <td>-21052.057570</td>\n",
       "      <td>-7717.744436</td>\n",
       "      <td>-711.076046</td>\n",
       "      <td>-13037.124340</td>\n",
       "      <td>-421.062162</td>\n",
       "      <td>-19993.613064</td>\n",
       "      <td>2584.375749</td>\n",
       "      <td>106.5</td>\n",
       "    </tr>\n",
       "    <tr>\n",
       "      <th>755354</th>\n",
       "      <td>-5321.905651</td>\n",
       "      <td>-18562.162645</td>\n",
       "      <td>-3945.686393</td>\n",
       "      <td>-1224.875596</td>\n",
       "      <td>-16626.792148</td>\n",
       "      <td>-23676.912329</td>\n",
       "      <td>-19995.110630</td>\n",
       "      <td>-19700.134659</td>\n",
       "      <td>-21093.967091</td>\n",
       "      <td>-22686.506532</td>\n",
       "      <td>-9332.859139</td>\n",
       "      <td>-2311.930336</td>\n",
       "      <td>-14659.056325</td>\n",
       "      <td>-1922.361782</td>\n",
       "      <td>-21621.267095</td>\n",
       "      <td>964.164849</td>\n",
       "      <td>107.5</td>\n",
       "    </tr>\n",
       "    <tr>\n",
       "      <th>755355</th>\n",
       "      <td>-4508.525671</td>\n",
       "      <td>-17846.750360</td>\n",
       "      <td>-3219.277050</td>\n",
       "      <td>-493.437111</td>\n",
       "      <td>-15899.622846</td>\n",
       "      <td>-22941.450529</td>\n",
       "      <td>-19259.291203</td>\n",
       "      <td>-18965.343412</td>\n",
       "      <td>-19228.512851</td>\n",
       "      <td>-20823.354521</td>\n",
       "      <td>-7497.244477</td>\n",
       "      <td>-532.351498</td>\n",
       "      <td>-12817.451396</td>\n",
       "      <td>-440.686994</td>\n",
       "      <td>-19773.046049</td>\n",
       "      <td>2801.724112</td>\n",
       "      <td>105.5</td>\n",
       "    </tr>\n",
       "    <tr>\n",
       "      <th>755356</th>\n",
       "      <td>-6114.856138</td>\n",
       "      <td>-19490.631758</td>\n",
       "      <td>-4857.168181</td>\n",
       "      <td>-2152.204770</td>\n",
       "      <td>-17541.358476</td>\n",
       "      <td>-24585.600148</td>\n",
       "      <td>-20907.061804</td>\n",
       "      <td>-20610.141231</td>\n",
       "      <td>-20622.278228</td>\n",
       "      <td>-22199.819648</td>\n",
       "      <td>-8852.967185</td>\n",
       "      <td>-1812.301792</td>\n",
       "      <td>-14168.167313</td>\n",
       "      <td>-1321.122208</td>\n",
       "      <td>-21147.365409</td>\n",
       "      <td>1432.903282</td>\n",
       "      <td>106.5</td>\n",
       "    </tr>\n",
       "  </tbody>\n",
       "</table>\n",
       "<p>755357 rows × 17 columns</p>\n",
       "</div>"
      ],
      "text/plain": [
       "                  F3            Fz            F4           FC3           FCz  \\\n",
       "0      -18856.266899 -18698.463583 -13608.658446 -11045.896834 -17954.552824   \n",
       "1      -36212.552930 -35802.107847 -25643.374103 -20525.808099 -34324.456373   \n",
       "2      -36659.856040 -36327.865580 -26154.022056 -20989.673852 -34807.857550   \n",
       "3      -37182.015143 -36869.358941 -26695.023679 -21550.233251 -35390.902804   \n",
       "4      -35810.601510 -35476.174709 -25330.628494 -20160.915871 -33987.973212   \n",
       "...              ...           ...           ...           ...           ...   \n",
       "755352  -4394.442367 -17609.799517  -2994.306742   -264.465840 -15671.478590   \n",
       "755353  -5551.949805 -19012.215020  -4375.041053  -1651.212770 -17055.520958   \n",
       "755354  -5321.905651 -18562.162645  -3945.686393  -1224.875596 -16626.792148   \n",
       "755355  -4508.525671 -17846.750360  -3219.277050   -493.437111 -15899.622846   \n",
       "755356  -6114.856138 -19490.631758  -4857.168181  -2152.204770 -17541.358476   \n",
       "\n",
       "                 FC4            C3            Cz            C4           CP3  \\\n",
       "0      -18615.091576 -18381.202922 -18494.392156 -16687.924169 -16375.647947   \n",
       "1      -35642.091708 -35190.765284 -35385.068999 -35802.867806 -35301.451123   \n",
       "2      -36134.701804 -35648.216086 -35872.091159 -34427.632025 -33938.508801   \n",
       "3      -36708.873416 -36238.972692 -36463.071282 -36127.884522 -35594.616603   \n",
       "4      -35300.333536 -34835.841934 -35048.585838 -34755.621523 -34259.189279   \n",
       "...              ...           ...           ...           ...           ...   \n",
       "755352 -22719.564762 -19031.728093 -18740.484862 -20195.002281 -21788.547550   \n",
       "755353 -24102.243674 -20414.116432 -20121.062710 -19467.363592 -21052.057570   \n",
       "755354 -23676.912329 -19995.110630 -19700.134659 -21093.967091 -22686.506532   \n",
       "755355 -22941.450529 -19259.291203 -18965.343412 -19228.512851 -20823.354521   \n",
       "755356 -24585.600148 -20907.061804 -20610.141231 -20622.278228 -22199.819648   \n",
       "\n",
       "                 CPz           CP4            P3            Pz            P4  \\\n",
       "0      -15073.278853 -10303.796566 -16564.408429  -8581.393490 -16312.772490   \n",
       "1      -32613.877370 -21845.298629 -35402.123380 -18363.142712 -35332.497696   \n",
       "2      -31252.410263 -20684.192560 -34035.135393 -17620.126023 -33943.180316   \n",
       "3      -32858.584268 -21823.237458 -35647.701996 -18155.673820 -35635.185019   \n",
       "4      -31617.481305 -21101.521981 -34375.731275 -17978.379783 -34278.188262   \n",
       "...              ...           ...           ...           ...           ...   \n",
       "755352  -8458.481247  -1488.335608 -13781.549189  -1360.170705 -20738.082616   \n",
       "755353  -7717.744436   -711.076046 -13037.124340   -421.062162 -19993.613064   \n",
       "755354  -9332.859139  -2311.930336 -14659.056325  -1922.361782 -21621.267095   \n",
       "755355  -7497.244477   -532.351498 -12817.451396   -440.686994 -19773.046049   \n",
       "755356  -8852.967185  -1812.301792 -14168.167313  -1321.122208 -21147.365409   \n",
       "\n",
       "                  Oz  Photoresistor  \n",
       "0       -8063.280054          116.5  \n",
       "1      -19792.045032          117.0  \n",
       "2      -18412.785937          114.5  \n",
       "3      -20044.619744          116.5  \n",
       "4      -18788.250540          115.0  \n",
       "...              ...            ...  \n",
       "755352   1832.775990          107.5  \n",
       "755353   2584.375749          106.5  \n",
       "755354    964.164849          107.5  \n",
       "755355   2801.724112          105.5  \n",
       "755356   1432.903282          106.5  \n",
       "\n",
       "[755357 rows x 17 columns]"
      ]
     },
     "execution_count": 2,
     "metadata": {},
     "output_type": "execute_result"
    }
   ],
   "source": [
    "HEADER = ['F3', 'Fz', 'F4', 'FC3', 'FCz', 'FC4', 'C3', 'Cz', 'C4', 'CP3', 'CPz', 'CP4', 'P3', 'Pz', 'P4', 'Oz', 'Photoresistor']\n",
    "tsv = pd.read_csv(\"../data/S1_21_tomas_3.csv\", sep=\"\\t\", names=HEADER)\n",
    "tsv"
   ]
  },
  {
   "cell_type": "code",
   "execution_count": 3,
   "metadata": {},
   "outputs": [
    {
     "data": {
      "image/png": "[encoded data removed]",
      "text/plain": [
       "<Figure size 640x480 with 1 Axes>"
      ]
     },
     "metadata": {},
     "output_type": "display_data"
    }
   ],
   "source": [
    "pr = tsv[\"Photoresistor\"].to_numpy()\n",
    "tsv[\"Photoresistor\"].to_csv(\"../data/photoresistor.csv\")\n",
    "\n",
    "bins, count = np.histogram(pr, bins=300)\n",
    "\n",
    "plt.figure()\n",
    "plt.stairs(bins, count)\n",
    "plt.show()"
   ]
  },
  {
   "cell_type": "code",
   "execution_count": 4,
   "metadata": {},
   "outputs": [],
   "source": [
    "# Through graphical analysis\n",
    "ACTION_1_MIN = 48\n",
    "ACTION_1_MAX = 82\n",
    "ACTION_2_MIN = 164\n",
    "ACTION_2_MAX = 210\n",
    "\n",
    "\"\"\"\n",
    "Reading the csv generated by the protocol program, we know that:\n",
    "- The first action was the right hand\n",
    "- The right hand option is paired with up (both hands)\n",
    "- The first reponse was HIGH (so ACTION_2)\n",
    "- Each action was recorded (15 samples per set) * 5 (set count) * 2 (action + imagined) = 150\n",
    "\n",
    "Also, through value analysis, values before 5300 and after 687900 shouldn't be used, since they are after the experiment end.\n",
    "\n",
    "Useful numbers to know:\n",
    "\n",
    "- Expected n of high samples = low samples = 150 * 2 = 300\n",
    "- Expected n of rests = n high samples + n low samples = 600\n",
    "- Expected n of pauses = n sets + 1 = 7\n",
    "\"\"\"\n",
    "\n",
    "data = tsv.to_numpy()[5300:751200, :].T\n",
    "data = data[:-1]"
   ]
  },
  {
   "cell_type": "code",
   "execution_count": 5,
   "metadata": {},
   "outputs": [
    {
     "name": "stdout",
     "output_type": "stream",
     "text": [
      "Axis 0 (682600,)\n",
      "Axis 1 (16,)\n"
     ]
    }
   ],
   "source": [
    "print(\"Axis 0\", np.shape(np.sum(data, axis = 0)))\n",
    "print(\"Axis 1\", np.shape(np.sum(data, axis = 1)))"
   ]
  },
  {
   "cell_type": "markdown",
   "metadata": {},
   "source": [
    "<h1>Pre-processing</h1>"
   ]
  },
  {
   "cell_type": "code",
   "execution_count": 76,
   "metadata": {},
   "outputs": [],
   "source": [
    "fs = 125\n",
    "nyq = fs/2\n",
    "fl = 2\n",
    "fh = 45\n",
    "winlen = 501\n",
    "\n",
    "filt = scp.signal.firwin(501, [fl, fh], pass_zero = False, fs = fs)\n",
    "\n",
    "\n",
    "w, h = scp.signal.freqz(filt)\n",
    "\n",
    "# Usámos um filtro FIR, com group delay consistente e conhecido. Ao usar filtfilt, o filtro é aplicado forward e backward. \n",
    "# Assim, o group delay é eliminado e a ordem do filtro é duplicada\n",
    "filtered = scp.signal.filtfilt(filt, [1], data, axis = 1)\n",
    "\n"
   ]
  },
  {
   "cell_type": "code",
   "execution_count": 77,
   "metadata": {},
   "outputs": [
    {
     "data": {
      "text/plain": [
       "Text(0.5, 0, 'Freq (Hz)')"
      ]
     },
     "execution_count": 77,
     "metadata": {},
     "output_type": "execute_result"
    },
    {
     "data": {
      "image/png": "[encoded data removed]",
      "text/plain": [
       "<Figure size 640x480 with 1 Axes>"
      ]
     },
     "metadata": {},
     "output_type": "display_data"
    }
   ],
   "source": [
    "plt.close('all')\n",
    "plt.figure()\n",
    "plt.plot(nyq * w/(np.pi), 20 * np.log10(abs(h)))\n",
    "plt.ylabel(\"Abs\")\n",
    "plt.xlabel(\"Freq (Hz)\")\n",
    "\n"
   ]
  },
  {
   "cell_type": "code",
   "execution_count": 78,
   "metadata": {},
   "outputs": [
    {
     "name": "stdout",
     "output_type": "stream",
     "text": [
      "(16, 1048576)\n",
      "(1048576,)\n"
     ]
    }
   ],
   "source": [
    "from fft import fft\n",
    "\n",
    "X1 = fft(filtered, axis = 1)\n",
    "# X2 = np.fft.fft(filtered[0:1],axis = 1)\n",
    "print(X1.shape)\n",
    "\n",
    "print(X1[0].shape)"
   ]
  },
  {
   "cell_type": "code",
   "execution_count": 88,
   "metadata": {},
   "outputs": [
    {
     "name": "stdout",
     "output_type": "stream",
     "text": [
      "(16, 682600)\n"
     ]
    }
   ],
   "source": [
    "X2 = np.fft.fft(filtered,axis = 1)\n",
    "print(X2.shape)"
   ]
  },
  {
   "cell_type": "markdown",
   "metadata": {},
   "source": [
    "<h2>Plotting frequency domain and noise frequency identification</h2>"
   ]
  },
  {
   "cell_type": "code",
   "execution_count": 90,
   "metadata": {},
   "outputs": [
    {
     "name": "stdout",
     "output_type": "stream",
     "text": [
      "Noise frequency is:  25.16782283782959\n"
     ]
    },
    {
     "data": {
      "image/png": "[encoded data removed]",
      "text/plain": [
       "<Figure size 640x480 with 1 Axes>"
      ]
     },
     "metadata": {},
     "output_type": "display_data"
    }
   ],
   "source": [
    "x = np.fft.fftfreq(len(X1[0]), 1/fs)\n",
    "plt.figure()\n",
    "plt.plot(x, abs(X1[0]))\n",
    "\n",
    "fnoise = x[np.argmax(X1[0])]\n",
    "print(\"Noise frequency is: \", fnoise)\n",
    "\n",
    "# xx = x[np.where(x >20)[0][0]:round(len(X1[0])/2)]\n",
    "# fnoise = xx[np.argmax(X1[0][np.where(x >20)[0][0]:round(len(X1[0])/2)])]\n",
    "# print(\"Noise frequency is: \", fnoise)\n"
   ]
  },
  {
   "cell_type": "markdown",
   "metadata": {},
   "source": [
    "<h1>Criação de um banco de filtros para utilização com CSP (FBCSP) </h1>"
   ]
  },
  {
   "cell_type": "code",
   "execution_count": 95,
   "metadata": {},
   "outputs": [
    {
     "name": "stdout",
     "output_type": "stream",
     "text": [
      "[[4, 8], [6, 10], [8, 12], [10, 14], [12, 16], [14, 18], [16, 20], [18, 22], [20, 24], [22, 26], [24, 28], [26, 30], [28, 32], [30, 34], [32, 36], [34, 38], [36, 40]]\n"
     ]
    },
    {
     "name": "stderr",
     "output_type": "stream",
     "text": [
      " 53%|█████▎    | 9/17 [05:31<04:48, 36.06s/it]"
     ]
    },
    {
     "name": "stdout",
     "output_type": "stream",
     "text": [
      "removing freq noise\n"
     ]
    },
    {
     "name": "stderr",
     "output_type": "stream",
     "text": [
      " 59%|█████▉    | 10/17 [06:16<04:31, 38.76s/it]"
     ]
    },
    {
     "name": "stdout",
     "output_type": "stream",
     "text": [
      "removing freq noise\n"
     ]
    },
    {
     "name": "stderr",
     "output_type": "stream",
     "text": [
      "100%|██████████| 17/17 [10:40<00:00, 37.69s/it]\n"
     ]
    }
   ],
   "source": [
    "bands = []\n",
    "f1 = 4\n",
    "f2 = 8\n",
    "maxf = 40\n",
    "\n",
    "while f2 <= maxf:\n",
    "    bands.append([f1, f2])\n",
    "    f1 += 2\n",
    "    f2 += 2\n",
    "print(bands)\n",
    "\n",
    "bandfiltered = []\n",
    "for i in tqdm(range(len(bands))):\n",
    "    if i == 9 or i == 10:\n",
    "       print(\"removing freq noise\")\n",
    "       filt = scp.signal.firwin(501, [bands[i][0], fnoise - 0.5, fnoise + 0.5, bands[i][1]], pass_zero = False, fs = fs)\n",
    "    else:\n",
    "        filt = scp.signal.firwin(501, [bands[i][0], bands[i][1]], pass_zero = False, fs = fs)\n",
    "    bandfiltered.append(scp.signal.filtfilt(filt, [1], filtered, axis = 1))\n",
    "\n",
    "\n",
    "\n"
   ]
  },
  {
   "cell_type": "code",
   "execution_count": 82,
   "metadata": {},
   "outputs": [
    {
     "data": {
      "text/plain": [
       "[<matplotlib.lines.Line2D at 0x1e897a36380>]"
      ]
     },
     "execution_count": 82,
     "metadata": {},
     "output_type": "execute_result"
    },
    {
     "data": {
      "image/png": "[encoded data removed]",
      "text/plain": [
       "<Figure size 640x480 with 1 Axes>"
      ]
     },
     "metadata": {},
     "output_type": "display_data"
    }
   ],
   "source": [
    "plt.figure()\n",
    "plt.plot(bandfiltered[8][0])"
   ]
  },
  {
   "cell_type": "code",
   "execution_count": 96,
   "metadata": {},
   "outputs": [
    {
     "name": "stderr",
     "output_type": "stream",
     "text": [
      "c:\\Users\\tomas\\Desktop\\Trabalho\\FEUP\\Neuro\\Project\\eegaming\\venv\\lib\\site-packages\\matplotlib\\cbook.py:1699: ComplexWarning: Casting complex values to real discards the imaginary part\n",
      "  return math.isfinite(val)\n",
      "c:\\Users\\tomas\\Desktop\\Trabalho\\FEUP\\Neuro\\Project\\eegaming\\venv\\lib\\site-packages\\matplotlib\\cbook.py:1345: ComplexWarning: Casting complex values to real discards the imaginary part\n",
      "  return np.asarray(x, float)\n"
     ]
    },
    {
     "name": "stdout",
     "output_type": "stream",
     "text": [
      "27.546879578083797\n"
     ]
    },
    {
     "data": {
      "image/png": "[encoded data removed]",
      "text/plain": [
       "<Figure size 640x480 with 1 Axes>"
      ]
     },
     "metadata": {},
     "output_type": "display_data"
    }
   ],
   "source": [
    "y = scp.fft.fft(bandfiltered[10][0])\n",
    "x = scp.fft.fftfreq(len(y), 1/fs)\n",
    "plt.plot(x, y)"
   ]
  },
  {
   "cell_type": "markdown",
   "metadata": {},
   "source": [
    "<h1> Real-time <b>(adaptar)</h1>"
   ]
  }
 ],
 "metadata": {
  "kernelspec": {
   "display_name": ".venv",
   "language": "python",
   "name": "python3"
  },
  "language_info": {
   "codemirror_mode": {
    "name": "ipython",
    "version": 3
   },
   "file_extension": ".py",
   "mimetype": "text/x-python",
   "name": "python",
   "nbconvert_exporter": "python",
   "pygments_lexer": "ipython3",
   "version": "3.10.11"
  }
 },
 "nbformat": 4,
 "nbformat_minor": 2
}
